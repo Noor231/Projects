{
 "cells": [
  {
   "cell_type": "markdown",
   "id": "fdaa6fe5-a80d-4673-ab95-5859bbd0b6f2",
   "metadata": {},
   "source": [
    "# Nivell 1 (màxim 5 punts)"
   ]
  },
  {
   "cell_type": "markdown",
   "id": "e3b4ea48-2cb1-4ff6-b2f0-c2a631d05d2b",
   "metadata": {},
   "source": [
    "## Pregunta 1 (1 punt)"
   ]
  },
  {
   "cell_type": "markdown",
   "id": "048a569f-5546-474c-9108-fed430deba23",
   "metadata": {},
   "source": [
    "Executa el següent codi en una cel·la:\n",
    "\n",
    "```java\n",
    "for(byte b = -125; b >= -130 && b <= 0; b--)\n",
    "    println(b)\n",
    "```"
   ]
  },
  {
   "cell_type": "code",
   "execution_count": 3,
   "id": "d143d56f-09e0-4e9f-aac0-048accd4c1f8",
   "metadata": {
    "execution": {
     "iopub.execute_input": "2023-03-13T21:09+0000",
     "iopub.status.busy": "2023-03-13T21:09+0000",
     "iopub.status.idle": "2023-03-13T21:09+0000",
     "shell.execute_reply": "2023-03-13T21:09+0000"
    },
    "tags": []
   },
   "outputs": [
    {
     "name": "stdout",
     "output_type": "stream",
     "text": [
      "-125\n",
      "-126\n",
      "-127\n",
      "-128\n"
     ]
    }
   ],
   "source": [
    "//Escriu i executa el codi aquí\n",
    "for(byte b = -125; b >= -130 && b <= 0; b--)\n",
    "    println(b)"
   ]
  },
  {
   "cell_type": "markdown",
   "id": "3aa5e002-7d9c-4d50-bd94-a7905dc37319",
   "metadata": {},
   "source": [
    "**Respon**:\n",
    "\n",
    "1. Per què no s'imprimeix el -129 i el -130?\n",
    "2. Per què cal posar la condició b <= 0 ?"
   ]
  },
  {
   "cell_type": "markdown",
   "id": "e8e75e51-f5cb-46f5-8092-34f3145ed962",
   "metadata": {},
   "source": [
    "---\n",
    "Resposta 1: Porque tiene el de desde -128 a 127\n",
    "\n",
    "Escriu la teva resposta aquí i **raona la teva resposta**.\n",
    "\n",
    "IMPORTANT: cal raonar la resposta per poder puntuar."
   ]
  },
  {
   "cell_type": "markdown",
   "id": "96326509-87f4-4d70-8d31-cd2e38d0382a",
   "metadata": {},
   "source": [
    "---\n",
    "Resposta 2: Si no ponemos la condicion  se va quedar en bucle infinito\n",
    "\n",
    "Escriu la teva resposta aquí i **raona la teva resposta**.\n",
    "\n",
    "IMPORTANT: cal raonar la resposta per poder puntuar."
   ]
  },
  {
   "cell_type": "markdown",
   "id": "f3c3e485-34d2-4c5b-b299-111b37988088",
   "metadata": {},
   "source": [
    "## Pregunta 2 (1 punt)"
   ]
  },
  {
   "cell_type": "markdown",
   "id": "2260437d-47e9-4709-b48a-f16ea3f70e0c",
   "metadata": {},
   "source": [
    "Executa el següent codi en una cel·la:\n",
    "\n",
    "```java\n",
    "String lang2 = \"Java\";\n",
    "String lang1 = \"Hello\";\n",
    "println(lang1 + lang2);\n",
    "println(lang1 + lang2 == \"HelloJava\");\n",
    "```"
   ]
  },
  {
   "cell_type": "code",
   "execution_count": 1,
   "id": "78b21702-c475-4aa9-ab6c-1997251eb0ad",
   "metadata": {
    "execution": {
     "iopub.execute_input": "2023-03-14T18:22+0000",
     "iopub.status.busy": "2023-03-14T18:22+0000",
     "iopub.status.idle": "2023-03-14T18:22+0000",
     "shell.execute_reply": "2023-03-14T18:22+0000"
    },
    "tags": []
   },
   "outputs": [
    {
     "name": "stdout",
     "output_type": "stream",
     "text": [
      "HelloJava\n",
      "false\n"
     ]
    }
   ],
   "source": [
    "//Escriu i executa el codi aquí\n",
    "String lang2 = \"Java\";\n",
    "String lang1 = \"Hello\";\n",
    "println(lang1 + lang2);\n",
    "println(lang1 + lang2 == \"HelloJava\");"
   ]
  },
  {
   "cell_type": "markdown",
   "id": "2b891786-95e3-4ce6-9bcd-4345fdf02dfe",
   "metadata": {},
   "source": [
    "**Respon**: \n",
    "\n",
    "Per què la última línia de codi imprimeix false?"
   ]
  },
  {
   "cell_type": "markdown",
   "id": "0e443e29-eefc-4943-9908-22e825121671",
   "metadata": {},
   "source": [
    "---\n",
    "Resposta:Porque en la memoria lang2 es \"Java\" y lang1 es \"Hello\" \" print(lang1 + lang2)\" te une el string y muestra por la pantalla pero no guarda en la memoria, por eso lang1 + lang2 === \"HelloJava\" da false\n",
    "\n",
    "Escriu la teva resposta aquí i **raona la teva resposta**.\n",
    "\n",
    "IMPORTANT: cal raonar la resposta per poder puntuar."
   ]
  },
  {
   "cell_type": "markdown",
   "id": "fc4c8446-8e5b-4df4-b9e4-82f7dfe73987",
   "metadata": {},
   "source": [
    "## Exercici 1 (1,5 punts)"
   ]
  },
  {
   "cell_type": "markdown",
   "id": "e701dac0-7f06-4ceb-9f48-009dbfd1be73",
   "metadata": {},
   "source": [
    "Donada una cadena de text, a continuació teniu un snippet que canvia el primer caràcter pel segon:"
   ]
  },
  {
   "cell_type": "code",
   "execution_count": 14,
   "id": "40fcb645-da29-41dd-ab53-8e12f7898939",
   "metadata": {
    "execution": {
     "iopub.execute_input": "2023-03-13T21:30+0000",
     "iopub.status.busy": "2023-03-13T21:30+0000",
     "iopub.status.idle": "2023-03-13T21:30+0000",
     "shell.execute_reply": "2023-03-13T21:30+0000"
    },
    "tags": []
   },
   "outputs": [
    {
     "name": "stdout",
     "output_type": "stream",
     "text": [
      "ajva"
     ]
    }
   ],
   "source": [
    "String word = \"java\";\n",
    "\n",
    "char[] letters = word.toCharArray();\n",
    "char letter1 = letters[0];\n",
    "char letter2 = letters[1];\n",
    "letters[0] = letter2;\n",
    "letters[1] = letter1;\n",
    "print(new String(letters));\n"
   ]
  },
  {
   "cell_type": "markdown",
   "id": "9ebbb252-7302-42f6-993d-57539f13297a",
   "metadata": {},
   "source": [
    "Aprofitant el codi anterior, feu un snippet que trobi totes les combinacions possibles que s'obtenen en intercanviar la primera lletra per cadascuna de les lletres restants.\n",
    "\n",
    "Per exemple, per a \"java\" obtindrem:\n",
    "\n",
    "```\n",
    "ajva vaja aavj\n",
    "```\n",
    "\n",
    "El vostre codi ha de ser vàlid per a paraules de qualsevol mida."
   ]
  },
  {
   "cell_type": "code",
   "execution_count": 15,
   "id": "a496180e-a5e3-45aa-91bf-10c2ae53e7da",
   "metadata": {
    "execution": {
     "iopub.execute_input": "2023-03-14T18:59+0000",
     "iopub.status.busy": "2023-03-14T18:59+0000",
     "iopub.status.idle": "2023-03-14T18:59+0000",
     "shell.execute_reply": "2023-03-14T18:59+0000"
    },
    "tags": []
   },
   "outputs": [
    {
     "name": "stdout",
     "output_type": "stream",
     "text": [
      "ajva vaja aavj "
     ]
    }
   ],
   "source": [
    "//El vostre codi a continuació:\n",
    "String word = \"java\";\n",
    "\n",
    "for (int i = 1; i < word.length(); i++) { //un bucle k empieza de index 1 k va hasta tamaño de word\n",
    "    char[] letters = word.toCharArray(); //convertir word en array de chars\n",
    "    char firstLetter = letters[0]; //valor pordefecto \n",
    "    char currentLetter = letters[i];\n",
    "    letters[0] = currentLetter;//swap\n",
    "    letters[i] = firstLetter;//swap\n",
    "    System.out.print(new String(letters) + \" \");//mostrar por la pantalla\n",
    "}\n"
   ]
  },
  {
   "cell_type": "markdown",
   "id": "01566c7e-828a-4ded-9da1-240f8560c7fb",
   "metadata": {},
   "source": [
    "## Exercici 2 (1,5 punts)"
   ]
  },
  {
   "cell_type": "code",
   "execution_count": 2,
   "id": "7025bad6-2f3a-41d2-a0fd-21e39a92e27a",
   "metadata": {
    "tags": []
   },
   "outputs": [
    {
     "name": "stdout",
     "output_type": "stream",
     "text": [
      "[672, 322, 882, 773, 344, 638, 556, 371, 828, 319, 815, 633, 439, 884, 642, 566, 849, 929, 692, 350, 623, 293, 39, 818, 719, 226, 633, 458, 408, 287, 906, 2, 378, 43, 34, 979, 22, 598, 342, 740, 829, 760, 919, 246, 157, 85, 506, 306, 415, 644, 230, 39, 983, 277, 894, 981, 951, 784, 612, 57, 755, 99, 239, 13, 618, 622, 794, 352, 474, 434, 837, 870, 950, 843, 897, 285, 595, 711, 74, 240, 329, 617, 515, 448, 276, 76, 696, 585, 999, 386, 903, 504, 186, 60, 13, 87, 957, 519, 843, 523]"
     ]
    }
   ],
   "source": [
    "// Codi per a obtenir un array d'enters aleatoris\n",
    "\n",
    "int getRandomNumber(int min, int max) {\n",
    "    int upper = max * 10;\n",
    "    Random random = new Random();\n",
    "    return random.nextInt(upper - min) + min;\n",
    "}\n",
    "\n",
    "int[] createRandomIntArray(int max){\n",
    "    int[] numbers = new int[max];\n",
    "    for(int i = 0; i < max; i++){\n",
    "        numbers[i] = getRandomNumber(0,max);\n",
    "    }\n",
    "    return numbers;\n",
    "}\n",
    "\n",
    "int[] numbers = createRandomIntArray(100);\n",
    "\n",
    "print(Arrays.toString(numbers))"
   ]
  },
  {
   "cell_type": "markdown",
   "id": "5341f9c0-dcc0-4c3d-b04e-ee363bad35f1",
   "metadata": {},
   "source": [
    "***\n",
    "\n",
    "Feu un snippet que, donat un array de números aleatoris com el generat amb el codi anterior, calculi **la mitjana** (que pot ser decimal) que s'obté de tots els números **parells** que pertanyen a l'array.\n",
    "\n",
    " "
   ]
  },
  {
   "cell_type": "code",
   "execution_count": 15,
   "id": "519d1b1b-c28a-4a1e-871c-759f0d7f2a10",
   "metadata": {
    "tags": []
   },
   "outputs": [
    {
     "name": "stdout",
     "output_type": "stream",
     "text": [
      "Mitjana dels nombres parells: 549.9069767441861\n"
     ]
    }
   ],
   "source": [
    "int[] numbers = createRandomIntArray(100);\n",
    "\n",
    "//TODO (solució)\n",
    "  // getting array length\n",
    "        int length = numbers.length;\n",
    " \n",
    "        // valor por fecto de sum\n",
    "    \n",
    " int sum = 0;\n",
    "int count = 0;\n",
    "\n",
    "for(int i = 0; i < numbers.length; i++){\n",
    "    if(numbers[i] % 2 == 0){\n",
    "        sum += numbers[i]; //sumar los numeros parells\n",
    "        count++;\n",
    "    }\n",
    "}\n",
    "// comprobar si es parell\n",
    "if(count > 0){\n",
    "    double average = (double) sum / count;\n",
    "    System.out.println(\"Mitjana dels nombres parells: \" + average);\n",
    "} else {\n",
    "    System.out.println(\"No hi ha nombres parells a l'array.\");\n",
    "}\n",
    "\n",
    "\n",
    "\n",
    "\n",
    "\n",
    "//TODO (jocs de proves)\n"
   ]
  },
  {
   "cell_type": "code",
   "execution_count": null,
   "id": "46dfbd40-bcea-41b0-b281-f8c00f58fa5d",
   "metadata": {},
   "outputs": [],
   "source": []
  }
 ],
 "metadata": {
  "kernelspec": {
   "display_name": "Java",
   "language": "java",
   "name": "java"
  },
  "language_info": {
   "codemirror_mode": "java",
   "file_extension": ".jshell",
   "mimetype": "text/x-java-source",
   "name": "Java",
   "pygments_lexer": "java",
   "version": "17.0.6+10-LTS"
  }
 },
 "nbformat": 4,
 "nbformat_minor": 5
}
